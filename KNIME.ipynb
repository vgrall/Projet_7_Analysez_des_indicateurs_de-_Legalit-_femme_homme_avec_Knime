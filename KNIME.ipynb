{
 "cells": [
  {
   "cell_type": "markdown",
   "id": "1bc7a211",
   "metadata": {},
   "source": [
    "<div style=\" background-color: rgb(208,176,157);\" >\n",
    "<h1 style=\"margin: auto; padding: 20px 0; color:#fff; text-align: center\">PROJET 7 DATA ANALYST</h1>\n",
    "<h2 style=\"margin: auto; padding: 20px 0; color:#fff; text-align: center\">KNIME\n",
    "</h2>\n",
    "</div>"
   ]
  },
  {
   "cell_type": "markdown",
   "id": "9dad8326",
   "metadata": {},
   "source": [
    "<div style=\" background-color: rgb(208,176,157);\"  >\n",
    "<h2 style=\"margin: auto; padding: 20px; color:#fff; \">Etape 1 - Importation des librairies et chargement des fichiers</h2>\n",
    "</div>"
   ]
  },
  {
   "cell_type": "markdown",
   "id": "4ee69457",
   "metadata": {},
   "source": [
    "<div style=\" border: 1px solid  rgb(208,176,157);\" >\n",
    "<h3 style=\"margin: auto; padding: 20px; color: rgb(133,143,148); \">1.1 - Importation des librairies</h3>\n",
    "</div>"
   ]
  },
  {
   "cell_type": "code",
   "execution_count": 1,
   "id": "ffe62b56",
   "metadata": {},
   "outputs": [],
   "source": [
    "\n",
    "import pandas as pd\n",
    "import numpy as np\n",
    "import matplotlib.pyplot as plt\n",
    "import seaborn as sns\n",
    "import matplotlib.colors as mcolors\n",
    "import seaborn as sns\n",
    "import warnings\n",
    "warnings.filterwarnings(\"ignore\")\n",
    "from datetime import datetime\n",
    "from scipy.stats import chi2_contingency\n",
    "from scipy.stats import spearmanr\n",
    "from scipy.stats import pearsonr\n",
    "from scipy import stats\n",
    "from sklearn.linear_model import LinearRegression\n",
    "from scipy.stats import shapiro"
   ]
  },
  {
   "cell_type": "markdown",
   "id": "8bd8e7ed",
   "metadata": {},
   "source": [
    "<div style=\" border: 1px solid  rgb(208,176,157);\" >\n",
    "<h3 style=\"margin: auto; padding: 20px; color: rgb(133,143,148); \">1.2 - Importation des fichiers de la BDD</h3>\n",
    "</div>"
   ]
  },
  {
   "cell_type": "code",
   "execution_count": 2,
   "id": "b304f108",
   "metadata": {},
   "outputs": [],
   "source": [
    "\n",
    "infoPro = pd.read_excel('Table info_pro.xlsx')\n",
    "\n",
    "remuneration = pd.read_excel('Table remuneration.xlsx')\n",
    "\n",
    "salaries = pd.read_excel('Table Salari‚s.xlsx')\n",
    "\n",
    "finale = pd.read_csv('Table_finale.csv', sep=(','))\n",
    "\n",
    "\n"
   ]
  },
  {
   "cell_type": "markdown",
   "id": "1249847a",
   "metadata": {},
   "source": [
    "<div style=\" background-color: rgb(208,176,157);\"  >\n",
    "<h2 style=\"margin: auto; padding: 20px; color:#fff; \">Etape 2 - Analyse exploratoire des fichiers</h2>\n",
    "</div>"
   ]
  },
  {
   "cell_type": "markdown",
   "id": "235e6e91",
   "metadata": {},
   "source": [
    "<div style=\" border: 1px solid  rgb(208,176,157);\" >\n",
    "<h3 style=\"margin: auto; padding: 20px; color: rgb(133,143,148); \">2.1 - Chargement du fichier INFOPRO</h3>\n",
    "</div>"
   ]
  },
  {
   "cell_type": "code",
   "execution_count": 3,
   "id": "e6b639d2",
   "metadata": {},
   "outputs": [
    {
     "name": "stdout",
     "output_type": "stream",
     "text": [
      "le nombre de valeurs vide dans le fichier est : \n",
      "id_salarié                   0\n",
      "Ancienneté_an                0\n",
      "Distance domicile/Travail    0\n",
      "Service                      0\n",
      "Work_accident                0\n",
      "Niveau de satisfaction       0\n",
      "dtype: int64\n",
      "*********************\n",
      "      id_salarié  Ancienneté_an  Distance domicile/Travail          Service  \\\n",
      "0  16000206-8278           12.6                         59        Marketing   \n",
      "1  16011205-0331           11.8                         31       Commercial   \n",
      "2  16020327-1465           11.9                         65               RH   \n",
      "3  16020701-3376           10.2                         59  Compta Finances   \n",
      "4  16020725-8401            7.9                         59       Consultant   \n",
      "\n",
      "  Work_accident  Niveau de satisfaction  \n",
      "0           Non                      67  \n",
      "1           Oui                      66  \n",
      "2           Non                      59  \n",
      "3           Non                      60  \n",
      "4           Non                      34  \n",
      "*********************\n",
      "<class 'pandas.core.frame.DataFrame'>\n",
      "RangeIndex: 256 entries, 0 to 255\n",
      "Data columns (total 6 columns):\n",
      " #   Column                     Non-Null Count  Dtype  \n",
      "---  ------                     --------------  -----  \n",
      " 0   id_salarié                 256 non-null    object \n",
      " 1   Ancienneté_an              256 non-null    float64\n",
      " 2   Distance domicile/Travail  256 non-null    int64  \n",
      " 3   Service                    256 non-null    object \n",
      " 4   Work_accident              256 non-null    object \n",
      " 5   Niveau de satisfaction     256 non-null    int64  \n",
      "dtypes: float64(1), int64(2), object(3)\n",
      "memory usage: 12.1+ KB\n",
      "None\n",
      "*********************\n",
      "       Ancienneté_an  Distance domicile/Travail  Niveau de satisfaction\n",
      "count     256.000000                 256.000000              256.000000\n",
      "mean       13.160937                  38.433594               50.687500\n",
      "std         7.020684                  19.834301               27.837413\n",
      "min         0.300000                   3.000000                1.000000\n",
      "25%         7.375000                  22.000000               30.000000\n",
      "50%        12.750000                  40.500000               50.500000\n",
      "75%        19.300000                  57.000000               73.000000\n",
      "max        25.000000                  70.000000              100.000000\n",
      "*********************\n",
      "le nombre de clé en doublon: \n",
      "0\n",
      "0 doublons dans la table infoPro.\n"
     ]
    }
   ],
   "source": [
    "#Analyse du fichier customers\n",
    "print(f'le nombre de valeurs vide dans le fichier est : ')\n",
    "print(infoPro.isnull().sum())\n",
    "print(\"*********************\")\n",
    "print(infoPro.head())\n",
    "print(\"*********************\")\n",
    "print(infoPro.info())\n",
    "print(\"*********************\")\n",
    "print(infoPro.describe())\n",
    "print(\"*********************\")\n",
    "\n",
    "#Le nombre de clé client_id en doublon\n",
    "print(f'le nombre de clé en doublon: ')\n",
    "print(infoPro['id_salarié'].duplicated().sum())\n",
    "\n",
    "#Nombre de doublons dans la table customers\n",
    "print(infoPro.duplicated(subset=None, keep='first').sum(), \"doublons dans la table infoPro.\")\n",
    "\n",
    "\n"
   ]
  },
  {
   "cell_type": "markdown",
   "id": "f7de7735",
   "metadata": {},
   "source": [
    "<div style=\"border: 1px solid rgb(208,176,157);\">\n",
    "\n",
    "<p style=\"margin-left : 5px; rgb(133,143,148);\">Vérification : Est-ce que chaque ligne correspond à un seul et unique Salarié ?\n",
    "</p>\n",
    "</div>"
   ]
  },
  {
   "cell_type": "code",
   "execution_count": 4,
   "id": "72feb571",
   "metadata": {},
   "outputs": [
    {
     "name": "stdout",
     "output_type": "stream",
     "text": [
      "Toutes les valeurs dans la colonne 'id_salarié' sont uniques.\n"
     ]
    }
   ],
   "source": [
    "# Vérifier si les valeurs de la colonne 'client_id' sont uniques\n",
    "id_salariés = infoPro['id_salarié'].is_unique\n",
    "\n",
    "# Afficher le résultat\n",
    "if id_salariés:\n",
    "    print(\"Toutes les valeurs dans la colonne 'id_salarié' sont uniques.\")\n",
    "else:\n",
    "    print(\"Il y a des valeurs dupliquées dans la colonne 'id_salarié'.\")\n",
    "\n"
   ]
  },
  {
   "cell_type": "markdown",
   "id": "74bcdda1",
   "metadata": {},
   "source": [
    "<div style=\" border: 1px solid  rgb(208,176,157);\" >\n",
    "<h3 style=\"margin: auto; padding: 20px; color: rgb(133,143,148); \">2.2 - Chargement du fichier REMUNERATION</h3>\n",
    "</div>"
   ]
  },
  {
   "cell_type": "code",
   "execution_count": 5,
   "id": "483c4cc1",
   "metadata": {},
   "outputs": [
    {
     "name": "stdout",
     "output_type": "stream",
     "text": [
      "le nombre de valeurs vide dans le fichier est : \n",
      "id_salarié               0\n",
      "Contrat                  0\n",
      "Durée hebdo              0\n",
      "Salaire base mensuel     0\n",
      "%variable_moyen          0\n",
      "Augmentation            15\n",
      "Promotion               15\n",
      "dtype: int64\n",
      "*********************\n",
      "      id_salarié Contrat  Durée hebdo  Salaire base mensuel  %variable_moyen  \\\n",
      "0  16990924-2829     CDI           35             9873.5000               13   \n",
      "1  16990414-3527     CDI           35             4296.7167               39   \n",
      "2  16981206-3817     CDI           35             3705.2167               29   \n",
      "3  16970415-1050     CDI           35             1697.1500               17   \n",
      "4  16960906-7989     CDD           35             2848.3000               15   \n",
      "\n",
      "   Augmentation  Promotion  \n",
      "0           0.0        0.0  \n",
      "1           0.0        1.0  \n",
      "2           1.0        1.0  \n",
      "3           1.0        0.0  \n",
      "4           1.0        0.0  \n",
      "*********************\n",
      "<class 'pandas.core.frame.DataFrame'>\n",
      "RangeIndex: 256 entries, 0 to 255\n",
      "Data columns (total 7 columns):\n",
      " #   Column                Non-Null Count  Dtype  \n",
      "---  ------                --------------  -----  \n",
      " 0   id_salarié            256 non-null    object \n",
      " 1   Contrat               256 non-null    object \n",
      " 2   Durée hebdo           256 non-null    int64  \n",
      " 3   Salaire base mensuel  256 non-null    float64\n",
      " 4   %variable_moyen       256 non-null    int64  \n",
      " 5   Augmentation          241 non-null    float64\n",
      " 6   Promotion             241 non-null    float64\n",
      "dtypes: float64(3), int64(2), object(2)\n",
      "memory usage: 14.1+ KB\n",
      "None\n",
      "*********************\n",
      "       Durée hebdo  Salaire base mensuel  %variable_moyen  Augmentation  \\\n",
      "count   256.000000            256.000000       256.000000    241.000000   \n",
      "mean     33.871094           5326.530626        20.027344      0.518672   \n",
      "std       3.203397           2505.493530        11.529809      0.500691   \n",
      "min      24.000000           1059.760000         0.000000      0.000000   \n",
      "25%      35.000000           3111.918325        10.000000      0.000000   \n",
      "50%      35.000000           5084.625000        19.000000      1.000000   \n",
      "75%      35.000000           7407.020850        30.000000      1.000000   \n",
      "max      35.000000           9999.383300        40.000000      1.000000   \n",
      "\n",
      "        Promotion  \n",
      "count  241.000000  \n",
      "mean     0.518672  \n",
      "std      0.500691  \n",
      "min      0.000000  \n",
      "25%      0.000000  \n",
      "50%      1.000000  \n",
      "75%      1.000000  \n",
      "max      1.000000  \n",
      "*********************\n",
      "le nombre de clé en doublon: \n",
      "0\n",
      "0 doublons dans la table products.\n",
      "id_salarié              0\n",
      "Contrat                 0\n",
      "Durée hebdo             0\n",
      "Salaire base mensuel    0\n",
      "%variable_moyen         0\n",
      "Augmentation            0\n",
      "Promotion               0\n",
      "dtype: int64\n"
     ]
    }
   ],
   "source": [
    "#Analyse du fichier products\n",
    "print(f'le nombre de valeurs vide dans le fichier est : ')\n",
    "print(remuneration.isnull().sum())\n",
    "print(\"*********************\")\n",
    "print(remuneration.head())\n",
    "print(\"*********************\")\n",
    "print(remuneration.info())\n",
    "print(\"*********************\")\n",
    "print(remuneration.describe())\n",
    "print(\"*********************\")\n",
    "\n",
    "#Le nombre de clé client_id en doublon\n",
    "print(f'le nombre de clé en doublon: ')\n",
    "print(remuneration['id_salarié'].duplicated().sum())\n",
    "\n",
    "print(remuneration.duplicated(subset=None, keep='first').sum(), \"doublons dans la table products.\")\n",
    "\n",
    "# Remplacer les valeurs vides par 0 dans les colonnes \"Augmentation\" et \"Promotion\"\n",
    "remuneration[['Augmentation', 'Promotion']] = remuneration[['Augmentation', 'Promotion']].fillna(0)\n",
    "print(remuneration.isnull().sum())\n",
    "\n"
   ]
  },
  {
   "cell_type": "code",
   "execution_count": 6,
   "id": "2739dbb4",
   "metadata": {},
   "outputs": [
    {
     "name": "stdout",
     "output_type": "stream",
     "text": [
      "Toutes les valeurs dans la colonne 'id_salarié' sont uniques.\n"
     ]
    }
   ],
   "source": [
    "\n",
    "# Vérifier si les valeurs de la colonne 'id_salarié' sont uniques\n",
    "unique_ids = remuneration['id_salarié'].is_unique\n",
    "\n",
    "# Afficher le résultat\n",
    "if unique_ids:\n",
    "    print(\"Toutes les valeurs dans la colonne 'id_salarié' sont uniques.\")\n",
    "else:\n",
    "    print(\"Il y a des valeurs dupliquées dans la colonne 'id_salarié'.\")\n"
   ]
  },
  {
   "cell_type": "markdown",
   "id": "067c03da",
   "metadata": {},
   "source": [
    "<div style=\" border: 1px solid  rgb(208,176,157);\" >\n",
    "<h3 style=\"margin: auto; padding: 20px; color: rgb(133,143,148); \">2.3 - Chargement du fichier SALARIES</h3>\n",
    "</div>"
   ]
  },
  {
   "cell_type": "code",
   "execution_count": 7,
   "id": "38f5b838",
   "metadata": {},
   "outputs": [
    {
     "name": "stdout",
     "output_type": "stream",
     "text": [
      "le nombre de valeurs vide dans le fichier est : \n",
      "id_salarié         0\n",
      "Sexe               0\n",
      "Prénom/Nom         0\n",
      "Telephone          0\n",
      "Date_naissance     0\n",
      "Etat Civil        82\n",
      "Enfants            0\n",
      "dtype: int64\n",
      "*********************\n",
      "      id_salarié Sexe            Prénom/Nom  Telephone Date_naissance  \\\n",
      "0  16920105-1209    F      Solenne Delannoy  607958599     1955-07-07   \n",
      "1  16661123-8764    H       Nicolas Jaccoud  660029842     1970-09-22   \n",
      "2  16230718-4297    F     Alexandra Auguste  629910592     1965-03-01   \n",
      "3  16130305-6954    F  Marie-Claire Besnard  685888970     1963-09-02   \n",
      "4  16360125-5924    F        Marie Berengar  624840475     1959-04-02   \n",
      "\n",
      "    Etat Civil  Enfants  \n",
      "0  Célibataire        1  \n",
      "1  Célibataire        3  \n",
      "2        Marié        1  \n",
      "3          NaN        1  \n",
      "4        Marié        3  \n",
      "*********************\n",
      "<class 'pandas.core.frame.DataFrame'>\n",
      "RangeIndex: 256 entries, 0 to 255\n",
      "Data columns (total 7 columns):\n",
      " #   Column          Non-Null Count  Dtype         \n",
      "---  ------          --------------  -----         \n",
      " 0   id_salarié      256 non-null    object        \n",
      " 1   Sexe            256 non-null    object        \n",
      " 2   Prénom/Nom      256 non-null    object        \n",
      " 3   Telephone       256 non-null    int64         \n",
      " 4   Date_naissance  256 non-null    datetime64[ns]\n",
      " 5   Etat Civil      174 non-null    object        \n",
      " 6   Enfants         256 non-null    int64         \n",
      "dtypes: datetime64[ns](1), int64(2), object(4)\n",
      "memory usage: 14.1+ KB\n",
      "None\n",
      "*********************\n",
      "          Telephone              Date_naissance     Enfants\n",
      "count  2.560000e+02                         256  256.000000\n",
      "mean   6.511928e+08  1970-12-28 22:46:52.500000    1.460938\n",
      "min    6.003126e+08         1954-12-07 00:00:00    0.000000\n",
      "25%    6.251080e+08         1963-10-17 00:00:00    0.000000\n",
      "50%    6.514391e+08         1970-06-08 12:00:00    1.000000\n",
      "75%    6.783984e+08         1978-07-24 12:00:00    2.000000\n",
      "max    6.991239e+08         1991-01-30 00:00:00    3.000000\n",
      "std    2.915357e+07                         NaN    1.123038\n",
      "*********************\n",
      "0 doublons dans la table SALARIES.\n",
      "id_salarié        0\n",
      "Sexe              0\n",
      "Prénom/Nom        0\n",
      "Telephone         0\n",
      "Date_naissance    0\n",
      "Etat Civil        0\n",
      "Enfants           0\n",
      "dtype: int64\n"
     ]
    }
   ],
   "source": [
    "#Analyse du fichier transactions\n",
    "print(f'le nombre de valeurs vide dans le fichier est : ')\n",
    "print(salaries.isnull().sum())\n",
    "print(\"*********************\")\n",
    "print(salaries.head())\n",
    "print(\"*********************\")\n",
    "print(salaries.info())\n",
    "print(\"*********************\")\n",
    "print(salaries.describe())\n",
    "print(\"*********************\")\n",
    "\n",
    "print(salaries.duplicated(subset=None, keep='first').sum(), \"doublons dans la table SALARIES.\")\n",
    "\n",
    "salaries[['Etat Civil']] = salaries[['Etat Civil']].fillna(0)\n",
    "print(salaries.isnull().sum())\n",
    "\n"
   ]
  },
  {
   "cell_type": "markdown",
   "id": "3f07b530",
   "metadata": {},
   "source": [
    "<div style=\" border: 1px solid  rgb(208,176,157);\" >\n",
    "<h3 style=\"margin: auto; padding: 20px; color: rgb(133,143,148); \">3. Jointure</h3>\n",
    "</div>"
   ]
  },
  {
   "cell_type": "code",
   "execution_count": 11,
   "id": "80d51db8",
   "metadata": {},
   "outputs": [
    {
     "name": "stdout",
     "output_type": "stream",
     "text": [
      "Index(['id_salarié', 'Ancienneté_an', 'Distance domicile/Travail', 'Service',\n",
      "       'Work_accident', 'Niveau de satisfaction', 'Contrat', 'Durée hebdo',\n",
      "       'Salaire base mensuel', '%variable_moyen', 'Augmentation', 'Promotion',\n",
      "       'Sexe', 'Prénom/Nom', 'Telephone', 'Date_naissance', 'Etat Civil',\n",
      "       'Enfants'],\n",
      "      dtype='object')\n"
     ]
    }
   ],
   "source": [
    "df_merged = infoPro.merge(remuneration, on='id_salarié', how='inner') \\\n",
    "                   .merge(salaries, on='id_salarié', how='inner')\n",
    "\n",
    "print(df_merged.columns)\n",
    "\n",
    "df_merged.to_excel('df_merged.xlsx', index=False)"
   ]
  }
 ],
 "metadata": {
  "kernelspec": {
   "display_name": "base",
   "language": "python",
   "name": "python3"
  },
  "language_info": {
   "codemirror_mode": {
    "name": "ipython",
    "version": 3
   },
   "file_extension": ".py",
   "mimetype": "text/x-python",
   "name": "python",
   "nbconvert_exporter": "python",
   "pygments_lexer": "ipython3",
   "version": "3.11.7"
  }
 },
 "nbformat": 4,
 "nbformat_minor": 5
}
